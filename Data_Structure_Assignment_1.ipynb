{
  "nbformat": 4,
  "nbformat_minor": 0,
  "metadata": {
    "colab": {
      "provenance": []
    },
    "kernelspec": {
      "name": "python3",
      "display_name": "Python 3"
    },
    "language_info": {
      "name": "python"
    }
  },
  "cells": [
    {
      "cell_type": "markdown",
      "source": [
        "# Data Type & Structure-Theoretical Question"
      ],
      "metadata": {
        "id": "0Auo0NadQEdk"
      }
    },
    {
      "cell_type": "markdown",
      "source": [
        "**Q1. What are data structures, and why are they important?**\n",
        "- Data structures are specialized formats for organizing, processing, and storing data. They are important because they allow efficient data access and modification, which is essential for algorithm performance and system efficiency."
      ],
      "metadata": {
        "id": "1AdGQc9cQaia"
      }
    },
    {
      "cell_type": "markdown",
      "source": [
        "**Q2. Explain the difference between mutable and immutable data types with examples.**\n",
        "- Mutable: Can be changed after creation. Example: list, dict, set\n",
        "- Immutable: Cannot be changed once created. Example: str, tuple, int"
      ],
      "metadata": {
        "id": "bIUJoBwzQe8a"
      }
    },
    {
      "cell_type": "markdown",
      "source": [
        "**Q3. What are the main differences between lists and tuples in Python?**\n",
        "- Lists are mutable & tuples are immutable.\n",
        "- Lists have dynamic size & tuples are fixed.\n",
        "- Lists use more memory & tuples are memory-efficient"
      ],
      "metadata": {
        "id": "dfPLtjioQe1P"
      }
    },
    {
      "cell_type": "markdown",
      "source": [
        "**Q4. Describe how dictionaries store data.**\n",
        "- Dictionaries store data as key-value pairs using a hash table internally for fast access."
      ],
      "metadata": {
        "id": "9xFrcRuaQes8"
      }
    },
    {
      "cell_type": "markdown",
      "source": [
        "**Q5. Why might you use a set instead of a list in Python?**\n",
        "- Sets automatically remove duplicates and offer faster lookup (O,1 on average) compared to lists."
      ],
      "metadata": {
        "id": "jRB8_U28Qelp"
      }
    },
    {
      "cell_type": "markdown",
      "source": [
        "**Q6. What is a string in Python, and how is it different from a list?**\n",
        "- A string is an immutable sequence of characters. Unlike lists, strings cannot be modified after creation."
      ],
      "metadata": {
        "id": "cPCorL6UQed6"
      }
    },
    {
      "cell_type": "markdown",
      "source": [
        "**Q7. How do tuples ensure data integrity in Python?**\n",
        "- Tuples are immutable, preventing accidental modifications and ensuring data consistency."
      ],
      "metadata": {
        "id": "1-TDSPcMQeWz"
      }
    },
    {
      "cell_type": "markdown",
      "source": [
        "**Q8. What is a hash table, and how does it relate to dictionaries in Python?**\n",
        "- A hash table maps keys to values using a hash function. Python dictionaries are implemented using hash tables."
      ],
      "metadata": {
        "id": "AwmfGExxQePN"
      }
    },
    {
      "cell_type": "markdown",
      "source": [
        "**Q9. Can lists contain different data types in Python?**\n",
        "- Yes, Python lists can hold elements of different data types."
      ],
      "metadata": {
        "id": "j_bpdYdjQeH-"
      }
    },
    {
      "cell_type": "markdown",
      "source": [
        "**Q10. Explain why strings are immutable in Python?**\n",
        "- To improve security, performance, and memory efficiency, and because string interning benefits from immutability."
      ],
      "metadata": {
        "id": "ZWX__b9JQeAM"
      }
    },
    {
      "cell_type": "markdown",
      "source": [
        "**Q11. What advantages do dictionaries offer over lists for certain tasks?**\n",
        "- Fast key-based access, clear key-value pairing, and better structure for lookups and mappings."
      ],
      "metadata": {
        "id": "V3cpl7v3Qd5n"
      }
    },
    {
      "cell_type": "markdown",
      "source": [
        "**Q12. Describe a scenario where using a tuple would be preferable over a list.**\n",
        "- When storing constant data like coordinates, where modification is not required."
      ],
      "metadata": {
        "id": "4GDy8RO3Qdyr"
      }
    },
    {
      "cell_type": "markdown",
      "source": [
        "**Q13. How do sets handle duplicate values in Python?**\n",
        "- Sets automatically remove duplicates and keep only unique elements."
      ],
      "metadata": {
        "id": "nJKSxFAOQdrZ"
      }
    },
    {
      "cell_type": "markdown",
      "source": [
        "**Q14. How does the \"in\" keyword work differently for lists and dictionaries?**\n",
        "- For lists: checks if an element exists.\n",
        "- For dictionaries: checks if a key exists."
      ],
      "metadata": {
        "id": "u9Bv_AlPQdkA"
      }
    },
    {
      "cell_type": "markdown",
      "source": [
        "**Q15. Can you modify elements of a tuple? Explain Why or why not?**\n",
        "- No, because tuples are immutable."
      ],
      "metadata": {
        "id": "lytN6Jl8Qdb9"
      }
    },
    {
      "cell_type": "markdown",
      "source": [
        "**Q16. What is a nested dictionary, and give an example of its use case?**\n",
        "- A dictionary can contain dictionaries, this is called nested dictionaries. This structure is useful for organizing data where you have multiple levels of information.\n",
        "- Example -\n",
        "student = {\"name\": \"John\", \"marks\": {\"math\": 90, \"science\": 85}}"
      ],
      "metadata": {
        "id": "xxOPvKsIQdT5"
      }
    },
    {
      "cell_type": "markdown",
      "source": [
        "**Q17. Describe the time complexity of accessing elements in a dictionary.**\n",
        "- The time complexity of retrieving a value by its key in a dictionary is O(1). This is because dictionaries use a hash table internally which allows constant time lookup."
      ],
      "metadata": {
        "id": "w2jH0fJbQdLO"
      }
    },
    {
      "cell_type": "markdown",
      "source": [
        "**Q18. In what situations are lists preferred over dictionaries?**\n",
        "- When order and duplication matter, or when storing simple sequences without key-value pairs."
      ],
      "metadata": {
        "id": "MUPlBRoxQdBH"
      }
    },
    {
      "cell_type": "markdown",
      "source": [
        "**Q19. Why are dictionaries considered unordered, and how does that affect data retrieval?**\n",
        "- the items in a dictionary do not have an inherent positional index like they do in a list or an array. Instead of using numerical indices to access elements, a dictionary uses keys to uniquely identify and retrieve values associated with those keys."
      ],
      "metadata": {
        "id": "RlNKdSeuQc5n"
      }
    },
    {
      "cell_type": "markdown",
      "source": [
        "**Q20. Explain the difference between a list and a dictionary in terms of data retrieval?**\n",
        "- **List:**\n",
        "1. A list allows random access to elements using indices.\n",
        "2. Lists allow duplicate elements.\n",
        "3. Lists provide faster performance while initialization, accessing elements, and iterating.\n",
        "\n",
        "- **Dictionary:**\n",
        "1. A dictionary allows random access to values using keys\n",
        "2. A dictionary doesn't allow duplicate keys. It allows duplicate values.\n",
        "3. The performance of dictionary operations is a bit slow."
      ],
      "metadata": {
        "id": "c2StTndRQb-d"
      }
    },
    {
      "cell_type": "markdown",
      "source": [
        "# Practical Question"
      ],
      "metadata": {
        "id": "H4dwHCK-SFh2"
      }
    },
    {
      "cell_type": "code",
      "source": [
        "# Answer-1\n",
        "Name = \"Ast Bhuja Tripathi\"\n",
        "print(Name)"
      ],
      "metadata": {
        "colab": {
          "base_uri": "https://localhost:8080/"
        },
        "id": "3pBARBTbSNvV",
        "outputId": "3ee0c2d9-f357-4b8e-9bf2-81584bf34a2f"
      },
      "execution_count": null,
      "outputs": [
        {
          "output_type": "stream",
          "name": "stdout",
          "text": [
            "Ast Bhuja Tripathi\n"
          ]
        }
      ]
    },
    {
      "cell_type": "code",
      "source": [
        "# Answer-2\n",
        "print(len(\"Hello World\"))"
      ],
      "metadata": {
        "colab": {
          "base_uri": "https://localhost:8080/"
        },
        "id": "5VqhS47tTDT9",
        "outputId": "45a277f4-2e47-49b9-c52e-728fc6186c80"
      },
      "execution_count": null,
      "outputs": [
        {
          "output_type": "stream",
          "name": "stdout",
          "text": [
            "11\n"
          ]
        }
      ]
    },
    {
      "cell_type": "code",
      "source": [
        "# Answer-3\n",
        "print(\"Python Programming\"[:3])"
      ],
      "metadata": {
        "colab": {
          "base_uri": "https://localhost:8080/"
        },
        "id": "PRnDKJ5PTDLw",
        "outputId": "e7936646-665a-43fe-ac84-137b7f71b83e"
      },
      "execution_count": null,
      "outputs": [
        {
          "output_type": "stream",
          "name": "stdout",
          "text": [
            "Pyt\n"
          ]
        }
      ]
    },
    {
      "cell_type": "code",
      "source": [
        "# Answer-4\n",
        "print(\"hello\".upper())"
      ],
      "metadata": {
        "colab": {
          "base_uri": "https://localhost:8080/"
        },
        "id": "r4asw6BITDDN",
        "outputId": "dec628e7-aef8-45d7-ba5c-447644c461a7"
      },
      "execution_count": null,
      "outputs": [
        {
          "output_type": "stream",
          "name": "stdout",
          "text": [
            "HELLO\n"
          ]
        }
      ]
    },
    {
      "cell_type": "code",
      "source": [
        "# Answer-5\n",
        "print(\"I like apple.\".replace(\"apple\",\"orange\"))"
      ],
      "metadata": {
        "colab": {
          "base_uri": "https://localhost:8080/"
        },
        "id": "_3Pkmyc_TC6j",
        "outputId": "d6e9f9bc-90bc-4607-dde3-cc74de2509e6"
      },
      "execution_count": null,
      "outputs": [
        {
          "output_type": "stream",
          "name": "stdout",
          "text": [
            "I like orange.\n"
          ]
        }
      ]
    },
    {
      "cell_type": "code",
      "source": [
        "# Answer-6\n",
        "My_List=[1,2,3,4,5]\n",
        "print(My_List)"
      ],
      "metadata": {
        "colab": {
          "base_uri": "https://localhost:8080/"
        },
        "id": "EkRn_29ZTCw-",
        "outputId": "bb9e8dcc-cb4f-460e-eab6-47520fbb6416"
      },
      "execution_count": null,
      "outputs": [
        {
          "output_type": "stream",
          "name": "stdout",
          "text": [
            "[1, 2, 3, 4, 5]\n"
          ]
        }
      ]
    },
    {
      "cell_type": "code",
      "source": [
        "# Answer-7\n",
        "My_List= [1,2,3,4]\n",
        "My_List.append(10)\n",
        "print(My_List)"
      ],
      "metadata": {
        "colab": {
          "base_uri": "https://localhost:8080/"
        },
        "id": "UqJW01OkTCnr",
        "outputId": "0c639a89-5ad9-436e-da98-c70dbb976d80"
      },
      "execution_count": null,
      "outputs": [
        {
          "output_type": "stream",
          "name": "stdout",
          "text": [
            "[1, 2, 3, 4, 10]\n"
          ]
        }
      ]
    },
    {
      "cell_type": "code",
      "source": [
        "# Answer-8\n",
        "My_List= [1,2,3,4,5]\n",
        "My_List.remove(3)\n",
        "print(My_List)"
      ],
      "metadata": {
        "colab": {
          "base_uri": "https://localhost:8080/"
        },
        "id": "CCTSiWakTCee",
        "outputId": "b41f2d95-2019-4714-9aec-914f2e39e145"
      },
      "execution_count": null,
      "outputs": [
        {
          "output_type": "stream",
          "name": "stdout",
          "text": [
            "[1, 2, 4, 5]\n"
          ]
        }
      ]
    },
    {
      "cell_type": "code",
      "source": [
        "# Answer-9\n",
        "My_List= ['a','b','c','d']\n",
        "print(My_List[1])"
      ],
      "metadata": {
        "colab": {
          "base_uri": "https://localhost:8080/"
        },
        "id": "h4sQCY9zTCVY",
        "outputId": "78c8035d-53fc-466e-dda7-dfafe4e75ae2"
      },
      "execution_count": null,
      "outputs": [
        {
          "output_type": "stream",
          "name": "stdout",
          "text": [
            "b\n"
          ]
        }
      ]
    },
    {
      "cell_type": "code",
      "source": [
        "# Answer-10\n",
        "My_List= [10,20,30,40,50]\n",
        "My_List.reverse()\n",
        "print(My_List)"
      ],
      "metadata": {
        "colab": {
          "base_uri": "https://localhost:8080/"
        },
        "id": "-d8dBjB9TCMl",
        "outputId": "01f00ee7-243f-4130-ed0f-732da4ab0ea2"
      },
      "execution_count": null,
      "outputs": [
        {
          "output_type": "stream",
          "name": "stdout",
          "text": [
            "[50, 40, 30, 20, 10]\n"
          ]
        }
      ]
    },
    {
      "cell_type": "code",
      "source": [
        "# Answer-11\n",
        "t= (100,200,300)\n",
        "print(t)"
      ],
      "metadata": {
        "colab": {
          "base_uri": "https://localhost:8080/"
        },
        "id": "G719PD86TCD9",
        "outputId": "c9b3053c-8e48-4560-e501-29a2c7c592d1"
      },
      "execution_count": null,
      "outputs": [
        {
          "output_type": "stream",
          "name": "stdout",
          "text": [
            "(100, 200, 300)\n"
          ]
        }
      ]
    },
    {
      "cell_type": "code",
      "source": [
        "# Answer-12\n",
        "colors= ('red','green','blue','yellow')\n",
        "print(colors[1:])"
      ],
      "metadata": {
        "colab": {
          "base_uri": "https://localhost:8080/"
        },
        "id": "yvnwoDOaTB7C",
        "outputId": "4dfd9af2-842d-48c1-ca1b-7e6246f31af0"
      },
      "execution_count": null,
      "outputs": [
        {
          "output_type": "stream",
          "name": "stdout",
          "text": [
            "('green', 'blue', 'yellow')\n"
          ]
        }
      ]
    },
    {
      "cell_type": "code",
      "source": [
        "# Answer-13\n",
        "number= (10,20,5,15)\n",
        "print(min(number))"
      ],
      "metadata": {
        "colab": {
          "base_uri": "https://localhost:8080/"
        },
        "id": "4DBJL-L0TByO",
        "outputId": "11d01009-3238-4fe9-eeef-37f88f8fe758"
      },
      "execution_count": null,
      "outputs": [
        {
          "output_type": "stream",
          "name": "stdout",
          "text": [
            "5\n"
          ]
        }
      ]
    },
    {
      "cell_type": "code",
      "source": [
        "# Answer-14\n",
        "animal= ('dog','cat','rabbit')\n",
        "index= animal.index('cat')\n",
        "print(index)"
      ],
      "metadata": {
        "colab": {
          "base_uri": "https://localhost:8080/"
        },
        "id": "Bn6OkLDuTBpJ",
        "outputId": "098653f5-7bf3-4ca4-87a2-d9744461bb78"
      },
      "execution_count": null,
      "outputs": [
        {
          "output_type": "stream",
          "name": "stdout",
          "text": [
            "1\n"
          ]
        }
      ]
    },
    {
      "cell_type": "code",
      "source": [
        "# Answer-15\n",
        "fruits= ('apple','banana','cherry')\n",
        "check= 'kiwi' in fruits\n",
        "print(check)"
      ],
      "metadata": {
        "colab": {
          "base_uri": "https://localhost:8080/"
        },
        "id": "TexJIziQTBf_",
        "outputId": "effd9aa5-6e03-4a81-8ba4-f877f1882c7d"
      },
      "execution_count": null,
      "outputs": [
        {
          "output_type": "stream",
          "name": "stdout",
          "text": [
            "False\n"
          ]
        }
      ]
    },
    {
      "cell_type": "code",
      "source": [
        "# Answer-16\n",
        "s= {'a','b','c'}\n",
        "print(s)"
      ],
      "metadata": {
        "colab": {
          "base_uri": "https://localhost:8080/"
        },
        "id": "Yp0bNvNMTBXV",
        "outputId": "9fe8a89c-e1cd-4c5a-a828-7ad1022ad23a"
      },
      "execution_count": null,
      "outputs": [
        {
          "output_type": "stream",
          "name": "stdout",
          "text": [
            "{'c', 'b', 'a'}\n"
          ]
        }
      ]
    },
    {
      "cell_type": "code",
      "source": [
        "# Answer-17\n",
        "s= {1,2,3,4,5}\n",
        "s.clear()\n",
        "print(s)"
      ],
      "metadata": {
        "colab": {
          "base_uri": "https://localhost:8080/"
        },
        "id": "hdZBTnDFTBOL",
        "outputId": "7bcb61f3-c029-4b2a-fbac-11b8b5c4e050"
      },
      "execution_count": null,
      "outputs": [
        {
          "output_type": "stream",
          "name": "stdout",
          "text": [
            "set()\n"
          ]
        }
      ]
    },
    {
      "cell_type": "code",
      "source": [
        "# Answer-18\n",
        "s= {1,2,3,4}\n",
        "s.remove(4)\n",
        "print(s)"
      ],
      "metadata": {
        "colab": {
          "base_uri": "https://localhost:8080/"
        },
        "id": "HHGu3l-zTBFx",
        "outputId": "14fd4bd8-a719-4b40-fcdf-873cdb9ccf54"
      },
      "execution_count": null,
      "outputs": [
        {
          "output_type": "stream",
          "name": "stdout",
          "text": [
            "{1, 2, 3}\n"
          ]
        }
      ]
    },
    {
      "cell_type": "code",
      "source": [
        "# Answer-19\n",
        "s1= {1,2,3}\n",
        "s2= {3,4,5}\n",
        "union= s1.union(s2)\n",
        "print(union)"
      ],
      "metadata": {
        "colab": {
          "base_uri": "https://localhost:8080/"
        },
        "id": "xcXsnaSaTA9f",
        "outputId": "d1331de0-f6e0-400e-f926-1c47a3c69a2d"
      },
      "execution_count": null,
      "outputs": [
        {
          "output_type": "stream",
          "name": "stdout",
          "text": [
            "{1, 2, 3, 4, 5}\n"
          ]
        }
      ]
    },
    {
      "cell_type": "code",
      "source": [
        "# Answer-20\n",
        "s1= {1,2,3}\n",
        "s2= {2,3,4}\n",
        "intersection= s1.intersection(s2)\n",
        "print(intersection)"
      ],
      "metadata": {
        "colab": {
          "base_uri": "https://localhost:8080/"
        },
        "id": "AtEdv51lTA0b",
        "outputId": "1a30d3f8-f37c-479c-eb90-424f02f8c053"
      },
      "execution_count": null,
      "outputs": [
        {
          "output_type": "stream",
          "name": "stdout",
          "text": [
            "{2, 3}\n"
          ]
        }
      ]
    },
    {
      "cell_type": "code",
      "source": [
        "# Answer-21\n",
        "mydict= {'name':'Ast Bhuja Tripathi','age':32,'city': 'Gorakhpur'}\n",
        "print(mydict)"
      ],
      "metadata": {
        "colab": {
          "base_uri": "https://localhost:8080/"
        },
        "id": "LISbwYYYTAsS",
        "outputId": "94e26bc0-bf9a-4567-f515-4daeb302cebe"
      },
      "execution_count": null,
      "outputs": [
        {
          "output_type": "stream",
          "name": "stdout",
          "text": [
            "{'name': 'Ast Bhuja Tripathi', 'age': 32, 'city': 'Gorakhpur'}\n"
          ]
        }
      ]
    },
    {
      "cell_type": "code",
      "source": [
        "# Answer-22\n",
        "mydict1= {'name':'John','age':25}\n",
        "mydict2= {'country':'USA'}\n",
        "mydict1.update(mydict2)\n",
        "print(mydict1)"
      ],
      "metadata": {
        "colab": {
          "base_uri": "https://localhost:8080/"
        },
        "id": "7iy7A4RlTAkx",
        "outputId": "17e53f8b-5125-46af-e3cd-ceacdba72671"
      },
      "execution_count": null,
      "outputs": [
        {
          "output_type": "stream",
          "name": "stdout",
          "text": [
            "{'name': 'John', 'age': 25, 'country': 'USA'}\n"
          ]
        }
      ]
    },
    {
      "cell_type": "code",
      "source": [
        "# Answer-23\n",
        "mydict1={'name':'Alice','age':30}\n",
        "print(mydict1['name'])"
      ],
      "metadata": {
        "colab": {
          "base_uri": "https://localhost:8080/"
        },
        "id": "R6Aj9QQaTAb5",
        "outputId": "d5d90e51-6940-4063-f403-a94c47849bb0"
      },
      "execution_count": null,
      "outputs": [
        {
          "output_type": "stream",
          "name": "stdout",
          "text": [
            "Alice\n"
          ]
        }
      ]
    },
    {
      "cell_type": "code",
      "source": [
        "# Answer-24\n",
        "mydict= {'name':'Bob','age':28,'city':'new york'}\n",
        "del mydict['age']\n",
        "print(mydict)"
      ],
      "metadata": {
        "colab": {
          "base_uri": "https://localhost:8080/"
        },
        "id": "lVl2g-C4TAT8",
        "outputId": "1a3e97ef-cfde-40e1-b43a-50ce49e35ad5"
      },
      "execution_count": null,
      "outputs": [
        {
          "output_type": "stream",
          "name": "stdout",
          "text": [
            "{'name': 'Bob', 'city': 'new york'}\n"
          ]
        }
      ]
    },
    {
      "cell_type": "code",
      "source": [
        "# Answer-25\n",
        "mydict= {'name':'Alice','city':'Paris'}\n",
        "check= 'city' in mydict\n",
        "print(check)"
      ],
      "metadata": {
        "colab": {
          "base_uri": "https://localhost:8080/"
        },
        "id": "TwDoz6mQTAMc",
        "outputId": "69c83c6b-5029-4892-e787-6b22cb8cce00"
      },
      "execution_count": null,
      "outputs": [
        {
          "output_type": "stream",
          "name": "stdout",
          "text": [
            "True\n"
          ]
        }
      ]
    },
    {
      "cell_type": "code",
      "source": [
        "# Answer-26\n",
        "l= [1,2,3,4,5]\n",
        "t= (1,2,3,4)\n",
        "d= {'name':'Ast Bhuja Tripathi','age':32}\n",
        "print(l,t,d)"
      ],
      "metadata": {
        "colab": {
          "base_uri": "https://localhost:8080/"
        },
        "id": "U-NfEi_HTAEB",
        "outputId": "d246cc0f-360e-4b85-d2f2-bc8dd50d1123"
      },
      "execution_count": null,
      "outputs": [
        {
          "output_type": "stream",
          "name": "stdout",
          "text": [
            "[1, 2, 3, 4, 5] (1, 2, 3, 4) {'name': 'Ast Bhuja Tripathi', 'age': 32}\n"
          ]
        }
      ]
    },
    {
      "cell_type": "code",
      "source": [
        "# Answer-27\n",
        "import random\n",
        "nums = random.sample(range(1,100),5)\n",
        "nums.sort()\n",
        "print(nums)"
      ],
      "metadata": {
        "colab": {
          "base_uri": "https://localhost:8080/"
        },
        "id": "yhBlpkXyS_7d",
        "outputId": "f5817700-6833-4fff-a179-dc0d5f600ec9"
      },
      "execution_count": null,
      "outputs": [
        {
          "output_type": "stream",
          "name": "stdout",
          "text": [
            "[3, 9, 29, 94, 99]\n"
          ]
        }
      ]
    },
    {
      "cell_type": "code",
      "source": [
        "# Answer-28\n",
        "l= ['a','b','c','d']\n",
        "print(l[3])"
      ],
      "metadata": {
        "colab": {
          "base_uri": "https://localhost:8080/"
        },
        "id": "jVQAZrRPS_0H",
        "outputId": "a4d4bc0b-fd23-40d5-a5e7-bf20a2e91177"
      },
      "execution_count": null,
      "outputs": [
        {
          "output_type": "stream",
          "name": "stdout",
          "text": [
            "d\n"
          ]
        }
      ]
    },
    {
      "cell_type": "code",
      "source": [
        "# Answer-29\n",
        "mydict1= {'name':'Mukesh','age':30}\n",
        "mydict2= {'country':'India'}\n",
        "combined_dict= {**mydict1,**mydict2}\n",
        "print(combined_dict)"
      ],
      "metadata": {
        "colab": {
          "base_uri": "https://localhost:8080/"
        },
        "id": "OhUbkuuHS_rz",
        "outputId": "4afc33af-a514-4445-f88d-ea1e8e47f7c7"
      },
      "execution_count": null,
      "outputs": [
        {
          "output_type": "stream",
          "name": "stdout",
          "text": [
            "{'name': 'Mukesh', 'age': 30, 'country': 'India'}\n"
          ]
        }
      ]
    },
    {
      "cell_type": "code",
      "source": [
        "# Anwer-30\n",
        "string_list = [\"apple\", \"banana\", \"cherry\", \"apple\", \"banana\"]\n",
        "string_set = set(string_list)\n",
        "print(string_set)\n"
      ],
      "metadata": {
        "colab": {
          "base_uri": "https://localhost:8080/"
        },
        "id": "BIg7azUem9zO",
        "outputId": "afb90227-0fc9-4f5f-beb6-c9c82aa3daa4"
      },
      "execution_count": null,
      "outputs": [
        {
          "output_type": "stream",
          "name": "stdout",
          "text": [
            "{'cherry', 'banana', 'apple'}\n"
          ]
        }
      ]
    }
  ]
}